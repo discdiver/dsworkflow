{
  "cells": [
    {
      "metadata": {
        "_uuid": "293118eb0c632eb56a71564704cd66f4ef770375"
      },
      "cell_type": "markdown",
      "source": "# Workflow for creating a data science portfolio\n### By: Jeff Hale"
    },
    {
      "metadata": {
        "_uuid": "921e54d02fc74e87c9664314fc7e525c88d0d17a"
      },
      "cell_type": "markdown",
      "source": "If you've been looking to create a data science portfolio that you can showcase your skills and use to help others learn the first question you might have asked yourself is where should your portfolio live. You might consider:\n\nKaggle\nGitHub\nMedium\nLinkedIn\nYour own Wordpress Blog\nYour own Django Blog\n\nConsiderations include:\nWhere is it fastest to produce new content?\nWhere is there a community of data scientists I can learn from? On the flip side where can others learn from me?\n\nHere's a workflow to use so that you can have the best of lots of worlds:\n\n1. Produce a Jupyter Notebook in a Kaggle kernel. Share it on Kaggle. I love Kaggle because it's easy to use out of the box, with lots of convenient python packages pre-installed and easy access to data sources. It also has a large, active community of data scientists and a great format for sharing your work.\n2. Next copy the Jupyter Notebook into GitHub with the [Kernel Hub Chrome Extension](https://chrome.google.com/webstore/detail/kernel-hub/liihahcoianndlfdfjoklnlhfbeokmjf). GitHub has more mindshare than any other developer site and you will be working with developers. Many companies use GitHub so an active account can helps to build some credibility.\n3. Import the Jupyter Notebook from GitHub into [Kyso](https://docs.kyso.io/docs/github-to-kyso). Kyso can host your portfolio as a blog or provide iframes for Jupyter Notebooks with options to show or hide code. \n4. Copy iframes from Kyso into Medium articles if you like.\n5. Spread the word on Twitter, Facebook, or LinkedIn from Kyso with their share buttons.\n\nThis might seem like overkill, but it's a pretty straightforward way to get your work onto a bunch of different platforms.\n\n\n"
    },
    {
      "metadata": {
        "_uuid": "8f2839f25d086af736a60e9eeb907d3b93b6e0e5",
        "_cell_guid": "b1076dfc-b9ad-4769-8c92-a6c4dae69d19",
        "trusted": true,
        "collapsed": true
      },
      "cell_type": "code",
      "source": "# This Python 3 environment comes with many helpful analytics libraries installed\n# It is defined by the kaggle/python docker image: https://github.com/kaggle/docker-python\n# For example, here's several helpful packages to load in \n\nimport numpy as np # linear algebra\nimport pandas as pd # data processing, CSV file I/O (e.g. pd.read_csv)\n\n# Input data files are available in the \"../input/\" directory.\n# For example, running this (by clicking run or pressing Shift+Enter) will list the files in the input directory\n\nimport os\nprint(os.listdir(\"../input\"))\n\n# Any results you write to the current directory are saved as output.",
      "execution_count": null,
      "outputs": []
    },
    {
      "metadata": {
        "trusted": true,
        "collapsed": true,
        "_uuid": "03e537b6e7650cfbde6f7eb4814ab136489a6ac3"
      },
      "cell_type": "code",
      "source": "",
      "execution_count": null,
      "outputs": []
    },
    {
      "metadata": {
        "trusted": true,
        "collapsed": true,
        "_uuid": "cdd7736528ed71a63b27ce7526a2673024c25538"
      },
      "cell_type": "code",
      "source": "",
      "execution_count": null,
      "outputs": []
    },
    {
      "metadata": {
        "_cell_guid": "79c7e3d0-c299-4dcb-8224-4455121ee9b0",
        "collapsed": true,
        "_uuid": "d629ff2d2480ee46fbb7e2d37f6b5fab8052498a",
        "trusted": false
      },
      "cell_type": "code",
      "source": "",
      "execution_count": null,
      "outputs": []
    }
  ],
  "metadata": {
    "kernelspec": {
      "display_name": "Python 3",
      "language": "python",
      "name": "python3"
    },
    "language_info": {
      "name": "python",
      "version": "3.6.6",
      "mimetype": "text/x-python",
      "codemirror_mode": {
        "name": "ipython",
        "version": 3
      },
      "pygments_lexer": "ipython3",
      "nbconvert_exporter": "python",
      "file_extension": ".py"
    }
  },
  "nbformat": 4,
  "nbformat_minor": 1
}